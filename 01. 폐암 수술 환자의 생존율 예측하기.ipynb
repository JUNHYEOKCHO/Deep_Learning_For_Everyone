{
 "cells": [
  {
   "cell_type": "code",
   "execution_count": 1,
   "metadata": {},
   "outputs": [],
   "source": [
    "# 딥러닝을 구동하는데 필요한 케라스 함수 호출\n",
    "from tensorflow.keras.models import Sequential\n",
    "from tensorflow.keras.layers import Dense\n",
    "\n",
    "# 필요한 라이브러리 불러옴\n",
    "import numpy as np\n",
    "import tensorflow as tf"
   ]
  },
  {
   "cell_type": "code",
   "execution_count": 4,
   "metadata": {},
   "outputs": [],
   "source": [
    "import os"
   ]
  },
  {
   "cell_type": "code",
   "execution_count": 2,
   "metadata": {},
   "outputs": [
    {
     "data": {
      "text/plain": [
       "'2.4.0'"
      ]
     },
     "execution_count": 2,
     "metadata": {},
     "output_type": "execute_result"
    }
   ],
   "source": [
    "tf.__version__"
   ]
  },
  {
   "cell_type": "code",
   "execution_count": 3,
   "metadata": {},
   "outputs": [],
   "source": [
    "# 실행할 때마다 같은 결과를 출력하기 위해 설정하는 부분\n",
    "np.random.seed(3)\n",
    "tf.random.set_seed(3)"
   ]
  },
  {
   "cell_type": "code",
   "execution_count": 7,
   "metadata": {},
   "outputs": [
    {
     "data": {
      "text/plain": [
       "['housing.csv',\n",
       " 'iris.csv',\n",
       " 'pima-indians-diabetes.csv',\n",
       " 'sonar.csv',\n",
       " 'ThoraricSurgery.csv',\n",
       " 'wine.csv']"
      ]
     },
     "execution_count": 7,
     "metadata": {},
     "output_type": "execute_result"
    }
   ],
   "source": [
    "os.listdir(\"dataset/ThoraricSurgery.csv\")"
   ]
  },
  {
   "cell_type": "code",
   "execution_count": null,
   "metadata": {},
   "outputs": [],
   "source": []
  },
  {
   "cell_type": "code",
   "execution_count": 8,
   "metadata": {},
   "outputs": [],
   "source": [
    "# 준비된 수술 환자 데이터를 불러옴\n",
    "Data_set = np.loadtxt(\"dataset/ThoraricSurgery.csv\", delimiter = \",\")"
   ]
  },
  {
   "cell_type": "code",
   "execution_count": 9,
   "metadata": {},
   "outputs": [],
   "source": [
    "# 환자의 기록과 수술 결과를 X와 Y로 구분하여 저장\n",
    "X = Data_set[:, :17]\n",
    "y = Data_set[:, 17]"
   ]
  },
  {
   "cell_type": "code",
   "execution_count": 11,
   "metadata": {},
   "outputs": [
    {
     "data": {
      "text/plain": [
       "((470, 17), (470,))"
      ]
     },
     "execution_count": 11,
     "metadata": {},
     "output_type": "execute_result"
    }
   ],
   "source": [
    "X.shape, y.shape"
   ]
  },
  {
   "cell_type": "code",
   "execution_count": 13,
   "metadata": {},
   "outputs": [],
   "source": [
    "# 딥러닝 구조를 결정모델을 설정하고 실행하는 부분\n",
    "model = Sequential()\n",
    "model.add(Dense(30, input_dim = 17, activation = 'relu'))\n",
    "model.add(Dense(1, activation='sigmoid'))"
   ]
  },
  {
   "cell_type": "code",
   "execution_count": 14,
   "metadata": {},
   "outputs": [
    {
     "name": "stdout",
     "output_type": "stream",
     "text": [
      "Epoch 1/100\n",
      "47/47 [==============================] - 1s 2ms/step - loss: 0.1520 - accuracy: 0.8252\n",
      "Epoch 2/100\n",
      "47/47 [==============================] - 0s 2ms/step - loss: 0.1240 - accuracy: 0.8713\n",
      "Epoch 3/100\n",
      "47/47 [==============================] - 0s 2ms/step - loss: 0.1568 - accuracy: 0.8319\n",
      "Epoch 4/100\n",
      "47/47 [==============================] - 0s 2ms/step - loss: 0.1466 - accuracy: 0.8436\n",
      "Epoch 5/100\n",
      "47/47 [==============================] - 0s 2ms/step - loss: 0.1344 - accuracy: 0.8526\n",
      "Epoch 6/100\n",
      "47/47 [==============================] - 0s 2ms/step - loss: 0.1408 - accuracy: 0.8516\n",
      "Epoch 7/100\n",
      "47/47 [==============================] - 0s 2ms/step - loss: 0.1404 - accuracy: 0.8427\n",
      "Epoch 8/100\n",
      "47/47 [==============================] - 0s 2ms/step - loss: 0.1388 - accuracy: 0.8468\n",
      "Epoch 9/100\n",
      "47/47 [==============================] - 0s 2ms/step - loss: 0.1315 - accuracy: 0.8626\n",
      "Epoch 10/100\n",
      "47/47 [==============================] - 0s 2ms/step - loss: 0.1243 - accuracy: 0.8681\n",
      "Epoch 11/100\n",
      "47/47 [==============================] - 0s 2ms/step - loss: 0.1425 - accuracy: 0.8482\n",
      "Epoch 12/100\n",
      "47/47 [==============================] - 0s 2ms/step - loss: 0.1436 - accuracy: 0.8410\n",
      "Epoch 13/100\n",
      "47/47 [==============================] - 0s 2ms/step - loss: 0.1560 - accuracy: 0.8211: 0s - loss: 0.1656 - accuracy: 0.80\n",
      "Epoch 14/100\n",
      "47/47 [==============================] - 0s 2ms/step - loss: 0.1487 - accuracy: 0.8437\n",
      "Epoch 15/100\n",
      "47/47 [==============================] - 0s 2ms/step - loss: 0.1409 - accuracy: 0.8449\n",
      "Epoch 16/100\n",
      "47/47 [==============================] - 0s 2ms/step - loss: 0.1282 - accuracy: 0.8621\n",
      "Epoch 17/100\n",
      "47/47 [==============================] - 0s 2ms/step - loss: 0.1376 - accuracy: 0.8592\n",
      "Epoch 18/100\n",
      "47/47 [==============================] - 0s 2ms/step - loss: 0.1379 - accuracy: 0.8552\n",
      "Epoch 19/100\n",
      "47/47 [==============================] - 0s 2ms/step - loss: 0.1444 - accuracy: 0.8459\n",
      "Epoch 20/100\n",
      "47/47 [==============================] - 0s 2ms/step - loss: 0.1174 - accuracy: 0.8694\n",
      "Epoch 21/100\n",
      "47/47 [==============================] - 0s 2ms/step - loss: 0.1316 - accuracy: 0.8484\n",
      "Epoch 22/100\n",
      "47/47 [==============================] - 0s 2ms/step - loss: 0.1397 - accuracy: 0.8554\n",
      "Epoch 23/100\n",
      "47/47 [==============================] - 0s 2ms/step - loss: 0.1400 - accuracy: 0.8508\n",
      "Epoch 24/100\n",
      "47/47 [==============================] - 0s 2ms/step - loss: 0.1436 - accuracy: 0.8486\n",
      "Epoch 25/100\n",
      "47/47 [==============================] - 0s 2ms/step - loss: 0.1512 - accuracy: 0.8394\n",
      "Epoch 26/100\n",
      "47/47 [==============================] - 0s 2ms/step - loss: 0.1372 - accuracy: 0.8545\n",
      "Epoch 27/100\n",
      "47/47 [==============================] - 0s 2ms/step - loss: 0.1370 - accuracy: 0.8427\n",
      "Epoch 28/100\n",
      "47/47 [==============================] - 0s 2ms/step - loss: 0.1356 - accuracy: 0.8444\n",
      "Epoch 29/100\n",
      "47/47 [==============================] - 0s 2ms/step - loss: 0.1154 - accuracy: 0.8755\n",
      "Epoch 30/100\n",
      "47/47 [==============================] - 0s 2ms/step - loss: 0.0975 - accuracy: 0.8888\n",
      "Epoch 31/100\n",
      "47/47 [==============================] - 0s 2ms/step - loss: 0.1225 - accuracy: 0.8722\n",
      "Epoch 32/100\n",
      "47/47 [==============================] - 0s 2ms/step - loss: 0.1332 - accuracy: 0.8597\n",
      "Epoch 33/100\n",
      "47/47 [==============================] - 0s 2ms/step - loss: 0.1291 - accuracy: 0.8578\n",
      "Epoch 34/100\n",
      "47/47 [==============================] - 0s 2ms/step - loss: 0.1372 - accuracy: 0.8586\n",
      "Epoch 35/100\n",
      "47/47 [==============================] - 0s 2ms/step - loss: 0.1297 - accuracy: 0.8453\n",
      "Epoch 36/100\n",
      "47/47 [==============================] - 0s 2ms/step - loss: 0.1525 - accuracy: 0.8319\n",
      "Epoch 37/100\n",
      "47/47 [==============================] - 0s 2ms/step - loss: 0.1305 - accuracy: 0.8489\n",
      "Epoch 38/100\n",
      "47/47 [==============================] - 0s 2ms/step - loss: 0.1337 - accuracy: 0.8428\n",
      "Epoch 39/100\n",
      "47/47 [==============================] - 0s 2ms/step - loss: 0.1429 - accuracy: 0.8462\n",
      "Epoch 40/100\n",
      "47/47 [==============================] - 0s 2ms/step - loss: 0.1433 - accuracy: 0.8469\n",
      "Epoch 41/100\n",
      "47/47 [==============================] - 0s 2ms/step - loss: 0.1322 - accuracy: 0.8496\n",
      "Epoch 42/100\n",
      "47/47 [==============================] - 0s 2ms/step - loss: 0.1365 - accuracy: 0.8614\n",
      "Epoch 43/100\n",
      "47/47 [==============================] - 0s 2ms/step - loss: 0.1224 - accuracy: 0.8727\n",
      "Epoch 44/100\n",
      "47/47 [==============================] - 0s 2ms/step - loss: 0.1187 - accuracy: 0.8715\n",
      "Epoch 45/100\n",
      "47/47 [==============================] - 0s 2ms/step - loss: 0.1413 - accuracy: 0.8530\n",
      "Epoch 46/100\n",
      "47/47 [==============================] - 0s 2ms/step - loss: 0.1377 - accuracy: 0.8597\n",
      "Epoch 47/100\n",
      "47/47 [==============================] - 0s 2ms/step - loss: 0.1099 - accuracy: 0.8825\n",
      "Epoch 48/100\n",
      "47/47 [==============================] - 0s 2ms/step - loss: 0.1254 - accuracy: 0.8645\n",
      "Epoch 49/100\n",
      "47/47 [==============================] - 0s 2ms/step - loss: 0.1392 - accuracy: 0.8367\n",
      "Epoch 50/100\n",
      "47/47 [==============================] - 0s 2ms/step - loss: 0.1139 - accuracy: 0.8783\n",
      "Epoch 51/100\n",
      "47/47 [==============================] - 0s 2ms/step - loss: 0.1314 - accuracy: 0.8400\n",
      "Epoch 52/100\n",
      "47/47 [==============================] - 0s 2ms/step - loss: 0.1331 - accuracy: 0.8530\n",
      "Epoch 53/100\n",
      "47/47 [==============================] - 0s 2ms/step - loss: 0.1403 - accuracy: 0.8508\n",
      "Epoch 54/100\n",
      "47/47 [==============================] - 0s 2ms/step - loss: 0.1492 - accuracy: 0.8393\n",
      "Epoch 55/100\n",
      "47/47 [==============================] - 0s 2ms/step - loss: 0.1301 - accuracy: 0.8633\n",
      "Epoch 56/100\n",
      "47/47 [==============================] - 0s 2ms/step - loss: 0.1448 - accuracy: 0.8521\n",
      "Epoch 57/100\n",
      "47/47 [==============================] - 0s 2ms/step - loss: 0.1315 - accuracy: 0.8436\n",
      "Epoch 58/100\n",
      "47/47 [==============================] - 0s 2ms/step - loss: 0.1190 - accuracy: 0.8636\n",
      "Epoch 59/100\n",
      "47/47 [==============================] - 0s 2ms/step - loss: 0.1449 - accuracy: 0.8395\n",
      "Epoch 60/100\n",
      "47/47 [==============================] - 0s 2ms/step - loss: 0.1054 - accuracy: 0.8668\n",
      "Epoch 61/100\n",
      "47/47 [==============================] - 0s 2ms/step - loss: 0.1127 - accuracy: 0.8762\n",
      "Epoch 62/100\n",
      "47/47 [==============================] - 0s 2ms/step - loss: 0.1269 - accuracy: 0.8534\n",
      "Epoch 63/100\n",
      "47/47 [==============================] - 0s 2ms/step - loss: 0.1191 - accuracy: 0.8576\n",
      "Epoch 64/100\n",
      "47/47 [==============================] - 0s 2ms/step - loss: 0.1242 - accuracy: 0.8679\n",
      "Epoch 65/100\n",
      "47/47 [==============================] - 0s 2ms/step - loss: 0.1272 - accuracy: 0.8663\n",
      "Epoch 66/100\n",
      "47/47 [==============================] - 0s 2ms/step - loss: 0.1370 - accuracy: 0.8414\n",
      "Epoch 67/100\n",
      "47/47 [==============================] - 0s 2ms/step - loss: 0.1145 - accuracy: 0.8604\n",
      "Epoch 68/100\n",
      "47/47 [==============================] - 0s 2ms/step - loss: 0.1185 - accuracy: 0.8681\n",
      "Epoch 69/100\n",
      "47/47 [==============================] - 0s 2ms/step - loss: 0.1616 - accuracy: 0.8217\n",
      "Epoch 70/100\n",
      "47/47 [==============================] - 0s 2ms/step - loss: 0.1396 - accuracy: 0.8527\n",
      "Epoch 71/100\n",
      "47/47 [==============================] - 0s 2ms/step - loss: 0.1423 - accuracy: 0.7974\n",
      "Epoch 72/100\n",
      "47/47 [==============================] - 0s 2ms/step - loss: 0.1175 - accuracy: 0.8767\n",
      "Epoch 73/100\n",
      "47/47 [==============================] - 0s 2ms/step - loss: 0.1406 - accuracy: 0.8504\n",
      "Epoch 74/100\n",
      "47/47 [==============================] - 0s 2ms/step - loss: 0.1256 - accuracy: 0.8670\n",
      "Epoch 75/100\n",
      "47/47 [==============================] - 0s 2ms/step - loss: 0.1061 - accuracy: 0.8759\n",
      "Epoch 76/100\n",
      "47/47 [==============================] - 0s 2ms/step - loss: 0.1204 - accuracy: 0.8611\n",
      "Epoch 77/100\n",
      "47/47 [==============================] - 0s 2ms/step - loss: 0.1463 - accuracy: 0.8421\n",
      "Epoch 78/100\n",
      "47/47 [==============================] - 0s 2ms/step - loss: 0.1164 - accuracy: 0.8668\n",
      "Epoch 79/100\n",
      "47/47 [==============================] - 0s 2ms/step - loss: 0.1277 - accuracy: 0.8567\n",
      "Epoch 80/100\n",
      "47/47 [==============================] - 0s 2ms/step - loss: 0.1301 - accuracy: 0.8363\n",
      "Epoch 81/100\n",
      "47/47 [==============================] - 0s 2ms/step - loss: 0.1115 - accuracy: 0.8814\n",
      "Epoch 82/100\n"
     ]
    },
    {
     "name": "stdout",
     "output_type": "stream",
     "text": [
      "47/47 [==============================] - 0s 2ms/step - loss: 0.1275 - accuracy: 0.8560\n",
      "Epoch 83/100\n",
      "47/47 [==============================] - 0s 2ms/step - loss: 0.1439 - accuracy: 0.8400\n",
      "Epoch 84/100\n",
      "47/47 [==============================] - 0s 2ms/step - loss: 0.0973 - accuracy: 0.8935\n",
      "Epoch 85/100\n",
      "47/47 [==============================] - 0s 2ms/step - loss: 0.1347 - accuracy: 0.8565\n",
      "Epoch 86/100\n",
      "47/47 [==============================] - 0s 2ms/step - loss: 0.1205 - accuracy: 0.8693\n",
      "Epoch 87/100\n",
      "47/47 [==============================] - 0s 2ms/step - loss: 0.1203 - accuracy: 0.8688\n",
      "Epoch 88/100\n",
      "47/47 [==============================] - 0s 2ms/step - loss: 0.1198 - accuracy: 0.8441\n",
      "Epoch 89/100\n",
      "47/47 [==============================] - 0s 2ms/step - loss: 0.1372 - accuracy: 0.8416\n",
      "Epoch 90/100\n",
      "47/47 [==============================] - 0s 2ms/step - loss: 0.1153 - accuracy: 0.8756\n",
      "Epoch 91/100\n",
      "47/47 [==============================] - 0s 2ms/step - loss: 0.1203 - accuracy: 0.8751\n",
      "Epoch 92/100\n",
      "47/47 [==============================] - 0s 2ms/step - loss: 0.1418 - accuracy: 0.8358\n",
      "Epoch 93/100\n",
      "47/47 [==============================] - 0s 2ms/step - loss: 0.1436 - accuracy: 0.8328\n",
      "Epoch 94/100\n",
      "47/47 [==============================] - 0s 2ms/step - loss: 0.1312 - accuracy: 0.8508\n",
      "Epoch 95/100\n",
      "47/47 [==============================] - 0s 2ms/step - loss: 0.1267 - accuracy: 0.8455\n",
      "Epoch 96/100\n",
      "47/47 [==============================] - 0s 2ms/step - loss: 0.1311 - accuracy: 0.8603\n",
      "Epoch 97/100\n",
      "47/47 [==============================] - 0s 2ms/step - loss: 0.1546 - accuracy: 0.8289\n",
      "Epoch 98/100\n",
      "47/47 [==============================] - 0s 2ms/step - loss: 0.1274 - accuracy: 0.8647\n",
      "Epoch 99/100\n",
      "47/47 [==============================] - 0s 2ms/step - loss: 0.1148 - accuracy: 0.8707\n",
      "Epoch 100/100\n",
      "47/47 [==============================] - 0s 2ms/step - loss: 0.1417 - accuracy: 0.8456\n"
     ]
    },
    {
     "data": {
      "text/plain": [
       "<tensorflow.python.keras.callbacks.History at 0x261f42efaf0>"
      ]
     },
     "execution_count": 14,
     "metadata": {},
     "output_type": "execute_result"
    }
   ],
   "source": [
    "# 딥러닝 실행\n",
    "model.compile(loss = 'mean_squared_error', optimizer='adam', metrics = ['accuracy'])\n",
    "model.fit(X, y, epochs = 100, batch_size = 10)"
   ]
  },
  {
   "cell_type": "code",
   "execution_count": null,
   "metadata": {},
   "outputs": [],
   "source": []
  }
 ],
 "metadata": {
  "kernelspec": {
   "display_name": "Python 3",
   "language": "python",
   "name": "python3"
  },
  "language_info": {
   "codemirror_mode": {
    "name": "ipython",
    "version": 3
   },
   "file_extension": ".py",
   "mimetype": "text/x-python",
   "name": "python",
   "nbconvert_exporter": "python",
   "pygments_lexer": "ipython3",
   "version": "3.8.3"
  }
 },
 "nbformat": 4,
 "nbformat_minor": 4
}
