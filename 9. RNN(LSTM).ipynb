{
 "cells": [
  {
   "cell_type": "code",
   "execution_count": 1,
   "metadata": {},
   "outputs": [],
   "source": [
    "from keras.datasets import reuters\n",
    "from keras.models import Sequential\n",
    "from keras.layers import Dense, LSTM, Embedding\n",
    "from keras.preprocessing import sequence\n",
    "from keras.utils import np_utils\n",
    "\n",
    "import numpy as np\n",
    "import tensorflow as tf\n",
    "import matplotlib.pyplot as plt"
   ]
  },
  {
   "cell_type": "code",
   "execution_count": 2,
   "metadata": {},
   "outputs": [],
   "source": [
    "# seed값 설정\n",
    "seed = 0\n",
    "np.random.seed(seed)\n",
    "tf.random.set_seed(3)"
   ]
  },
  {
   "cell_type": "code",
   "execution_count": 3,
   "metadata": {},
   "outputs": [
    {
     "name": "stdout",
     "output_type": "stream",
     "text": [
      "Downloading data from https://storage.googleapis.com/tensorflow/tf-keras-datasets/reuters.npz\n",
      "2113536/2110848 [==============================] - 0s 0us/step\n"
     ]
    },
    {
     "name": "stderr",
     "output_type": "stream",
     "text": [
      "C:\\Users\\mo223\\anaconda3\\lib\\site-packages\\tensorflow\\python\\keras\\datasets\\reuters.py:148: VisibleDeprecationWarning: Creating an ndarray from ragged nested sequences (which is a list-or-tuple of lists-or-tuples-or ndarrays with different lengths or shapes) is deprecated. If you meant to do this, you must specify 'dtype=object' when creating the ndarray\n",
      "  x_train, y_train = np.array(xs[:idx]), np.array(labels[:idx])\n",
      "C:\\Users\\mo223\\anaconda3\\lib\\site-packages\\tensorflow\\python\\keras\\datasets\\reuters.py:149: VisibleDeprecationWarning: Creating an ndarray from ragged nested sequences (which is a list-or-tuple of lists-or-tuples-or ndarrays with different lengths or shapes) is deprecated. If you meant to do this, you must specify 'dtype=object' when creating the ndarray\n",
      "  x_test, y_test = np.array(xs[idx:]), np.array(labels[idx:])\n"
     ]
    }
   ],
   "source": [
    "# 불러온 데이터를 학습셋과 테스트셋으로 나누기\n",
    "(X_train, Y_train), (X_test, Y_test) = reuters.load_data(num_words = 1000, test_split = 0.2)"
   ]
  },
  {
   "cell_type": "code",
   "execution_count": 4,
   "metadata": {},
   "outputs": [
    {
     "name": "stdout",
     "output_type": "stream",
     "text": [
      "46 카테고리\n",
      "8982 학습용 뉴스 기사\n",
      "2246 테스트용 뉴스 기사\n",
      "[1, 2, 2, 8, 43, 10, 447, 5, 25, 207, 270, 5, 2, 111, 16, 369, 186, 90, 67, 7, 89, 5, 19, 102, 6, 19, 124, 15, 90, 67, 84, 22, 482, 26, 7, 48, 4, 49, 8, 864, 39, 209, 154, 6, 151, 6, 83, 11, 15, 22, 155, 11, 15, 7, 48, 9, 2, 2, 504, 6, 258, 6, 272, 11, 15, 22, 134, 44, 11, 15, 16, 8, 197, 2, 90, 67, 52, 29, 209, 30, 32, 132, 6, 109, 15, 17, 12]\n"
     ]
    }
   ],
   "source": [
    "# 데이터 확인하기\n",
    "category = np.max(Y_train) + 1\n",
    "\n",
    "print(category, \"카테고리\")\n",
    "print(len(X_train), \"학습용 뉴스 기사\")\n",
    "print(len(X_test), \"테스트용 뉴스 기사\")\n",
    "print(X_train[0])"
   ]
  },
  {
   "cell_type": "code",
   "execution_count": 5,
   "metadata": {},
   "outputs": [],
   "source": [
    "# 데이터 전처리\n",
    "X_train = sequence.pad_sequences(X_train, maxlen = 100)\n",
    "X_test = sequence.pad_sequences(X_test, maxlen = 100)\n",
    "y_train = np_utils.to_categorical(Y_train)\n",
    "y_test = np_utils.to_categorical(Y_test)"
   ]
  },
  {
   "cell_type": "code",
   "execution_count": 6,
   "metadata": {},
   "outputs": [],
   "source": [
    "# 모델의 설정\n",
    "model = Sequential()\n",
    "model.add(Embedding(1000, 100))\n",
    "model.add(LSTM(100, activation = 'tanh'))\n",
    "model.add(Dense(46, activation = 'softmax'))"
   ]
  },
  {
   "cell_type": "code",
   "execution_count": 7,
   "metadata": {},
   "outputs": [],
   "source": [
    "# 모델의 컴파일\n",
    "model.compile(loss = 'categorical_crossentropy',\n",
    "             optimizer = 'adam',\n",
    "             metrics = ['accuracy'])"
   ]
  },
  {
   "cell_type": "code",
   "execution_count": 8,
   "metadata": {},
   "outputs": [
    {
     "name": "stdout",
     "output_type": "stream",
     "text": [
      "Epoch 1/20\n",
      "90/90 [==============================] - 32s 291ms/step - loss: 2.9665 - accuracy: 0.3179 - val_loss: 2.1698 - val_accuracy: 0.4488\n",
      "Epoch 2/20\n",
      "90/90 [==============================] - 21s 239ms/step - loss: 2.0574 - accuracy: 0.4785 - val_loss: 1.9625 - val_accuracy: 0.5111\n",
      "Epoch 3/20\n",
      "90/90 [==============================] - 21s 234ms/step - loss: 1.8925 - accuracy: 0.5106 - val_loss: 1.8813 - val_accuracy: 0.5080\n",
      "Epoch 4/20\n",
      "90/90 [==============================] - 22s 242ms/step - loss: 1.7512 - accuracy: 0.5404 - val_loss: 1.7458 - val_accuracy: 0.5534\n",
      "Epoch 5/20\n",
      "90/90 [==============================] - 22s 241ms/step - loss: 1.7314 - accuracy: 0.5466 - val_loss: 1.7122 - val_accuracy: 0.5588\n",
      "Epoch 6/20\n",
      "90/90 [==============================] - 22s 243ms/step - loss: 1.6400 - accuracy: 0.5839 - val_loss: 1.6055 - val_accuracy: 0.6042\n",
      "Epoch 7/20\n",
      "90/90 [==============================] - 21s 233ms/step - loss: 1.5537 - accuracy: 0.6076 - val_loss: 1.5226 - val_accuracy: 0.6224\n",
      "Epoch 8/20\n",
      "90/90 [==============================] - 22s 246ms/step - loss: 1.4128 - accuracy: 0.6459 - val_loss: 1.4736 - val_accuracy: 0.6340\n",
      "Epoch 9/20\n",
      "90/90 [==============================] - 23s 256ms/step - loss: 1.3143 - accuracy: 0.6667 - val_loss: 1.4300 - val_accuracy: 0.6429\n",
      "Epoch 10/20\n",
      "90/90 [==============================] - 22s 244ms/step - loss: 1.2470 - accuracy: 0.6814 - val_loss: 1.3992 - val_accuracy: 0.6536\n",
      "Epoch 11/20\n",
      "90/90 [==============================] - 23s 251ms/step - loss: 1.2042 - accuracy: 0.6852 - val_loss: 1.3390 - val_accuracy: 0.6705\n",
      "Epoch 12/20\n",
      "90/90 [==============================] - 22s 246ms/step - loss: 1.1200 - accuracy: 0.7136 - val_loss: 1.2999 - val_accuracy: 0.6768\n",
      "Epoch 13/20\n",
      "90/90 [==============================] - 22s 250ms/step - loss: 1.0340 - accuracy: 0.7333 - val_loss: 1.2893 - val_accuracy: 0.6719\n",
      "Epoch 14/20\n",
      "90/90 [==============================] - 22s 241ms/step - loss: 1.0309 - accuracy: 0.7327 - val_loss: 1.2413 - val_accuracy: 0.6906\n",
      "Epoch 15/20\n",
      "90/90 [==============================] - 22s 240ms/step - loss: 0.9776 - accuracy: 0.7526 - val_loss: 1.2448 - val_accuracy: 0.6972\n",
      "Epoch 16/20\n",
      "90/90 [==============================] - 23s 250ms/step - loss: 0.9399 - accuracy: 0.7604 - val_loss: 1.2432 - val_accuracy: 0.6910\n",
      "Epoch 17/20\n",
      "90/90 [==============================] - 22s 246ms/step - loss: 0.8708 - accuracy: 0.7771 - val_loss: 1.2536 - val_accuracy: 0.6915\n",
      "Epoch 18/20\n",
      "90/90 [==============================] - 22s 241ms/step - loss: 0.8008 - accuracy: 0.7961 - val_loss: 1.2545 - val_accuracy: 0.7039\n",
      "Epoch 19/20\n",
      "90/90 [==============================] - 23s 250ms/step - loss: 0.8126 - accuracy: 0.7949 - val_loss: 1.2113 - val_accuracy: 0.7030\n",
      "Epoch 20/20\n",
      "90/90 [==============================] - 22s 242ms/step - loss: 0.7893 - accuracy: 0.7983 - val_loss: 1.2663 - val_accuracy: 0.7070\n"
     ]
    }
   ],
   "source": [
    "# 모델의 실행\n",
    "history = model.fit(X_train, y_train, batch_size = 100, epochs = 20, validation_data = (X_test, y_test))"
   ]
  },
  {
   "cell_type": "code",
   "execution_count": 9,
   "metadata": {},
   "outputs": [
    {
     "name": "stdout",
     "output_type": "stream",
     "text": [
      "71/71 [==============================] - 3s 35ms/step - loss: 1.2663 - accuracy: 0.7070\n",
      "\n",
      " Test Accuracy: 0.7070\n"
     ]
    }
   ],
   "source": [
    "# 테스트 정확도 출력\n",
    "print(\"\\n Test Accuracy: %.4f\" % (model.evaluate(X_test, y_test)[1]))"
   ]
  },
  {
   "cell_type": "code",
   "execution_count": 10,
   "metadata": {},
   "outputs": [],
   "source": [
    "# 테스트셋의 오차\n",
    "y_vloss = history.history['val_loss']"
   ]
  },
  {
   "cell_type": "code",
   "execution_count": 11,
   "metadata": {},
   "outputs": [],
   "source": [
    "# 학습셋의 오차\n",
    "y_loss = history.history['loss']"
   ]
  },
  {
   "cell_type": "code",
   "execution_count": 12,
   "metadata": {},
   "outputs": [
    {
     "data": {
      "image/png": "[encoded data removed]",
      "text/plain": [
       "<Figure size 432x288 with 1 Axes>"
      ]
     },
     "metadata": {
      "needs_background": "light"
     },
     "output_type": "display_data"
    }
   ],
   "source": [
    "# 그래프로 표현\n",
    "x_len = np.arange(len(y_loss))\n",
    "plt.plot(x_len, y_vloss, marker = '.', label = 'Testset_loss')\n",
    "plt.plot(x_len, y_loss, marker = '.', label = 'Trainset_loss')\n",
    "\n",
    "# 그래프에 그리드를 추가하고 레이블을 표시\n",
    "plt.legend(loc = 'upper right')\n",
    "plt.grid()\n",
    "plt.xlabel('epoch')\n",
    "plt.ylabel(\"loss\")\n",
    "plt.show()"
   ]
  }
 ],
 "metadata": {
  "kernelspec": {
   "display_name": "Python 3",
   "language": "python",
   "name": "python3"
  },
  "language_info": {
   "codemirror_mode": {
    "name": "ipython",
    "version": 3
   },
   "file_extension": ".py",
   "mimetype": "text/x-python",
   "name": "python",
   "nbconvert_exporter": "python",
   "pygments_lexer": "ipython3",
   "version": "3.8.3"
  }
 },
 "nbformat": 4,
 "nbformat_minor": 4
}
