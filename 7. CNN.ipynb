{
 "cells": [
  {
   "cell_type": "code",
   "execution_count": 2,
   "metadata": {},
   "outputs": [],
   "source": [
    "from keras.datasets import mnist\n",
    "from keras.utils import np_utils\n",
    "from keras.models import Sequential\n",
    "from keras.layers import Dense, Dropout, Flatten, Conv2D, MaxPooling2D\n",
    "from keras.callbacks import ModelCheckpoint, EarlyStopping\n",
    "\n",
    "import matplotlib.pyplot as plt\n",
    "import numpy as np\n",
    "import pandas as pd\n",
    "import os\n",
    "import tensorflow as tf"
   ]
  },
  {
   "cell_type": "code",
   "execution_count": 3,
   "metadata": {},
   "outputs": [],
   "source": [
    "# seed 값 설정\n",
    "seed = 0\n",
    "np.random.seed(seed)\n",
    "tf.random.set_seed(3)"
   ]
  },
  {
   "cell_type": "code",
   "execution_count": 4,
   "metadata": {},
   "outputs": [
    {
     "name": "stdout",
     "output_type": "stream",
     "text": [
      "Downloading data from https://storage.googleapis.com/tensorflow/tf-keras-datasets/mnist.npz\n",
      "11493376/11490434 [==============================] - 1s 0us/step\n"
     ]
    }
   ],
   "source": [
    "# 데이터 불러오기\n",
    "(X_train, y_train), (X_test, y_test) = mnist.load_data()"
   ]
  },
  {
   "cell_type": "code",
   "execution_count": 7,
   "metadata": {},
   "outputs": [],
   "source": [
    "X_train = X_train.reshape(X_train.shape[0], 28, 28, 1).astype(np.float32) / 255.\n",
    "\n",
    "X_test = X_test.reshape(X_test.shape[0], 28, 28, 1).astype(np.float32) / 255.\n",
    "\n",
    "y_train = np_utils.to_categorical(y_train)\n",
    "\n",
    "y_test = np_utils.to_categorical(y_test)"
   ]
  },
  {
   "cell_type": "code",
   "execution_count": 9,
   "metadata": {},
   "outputs": [],
   "source": [
    "# 컨볼루션 신경망 설정\n",
    "model = Sequential()\n",
    "model.add(Conv2D(32, kernel_size = (3, 3), input_shape = (28, 28, 1), activation = 'relu'))\n",
    "model.add(Conv2D(64, kernel_size = (3, 3), activation = 'relu'))\n",
    "model.add(MaxPooling2D(pool_size = 2))\n",
    "model.add(Dropout(0.25))\n",
    "model.add(Flatten())\n",
    "model.add(Dense(128, activation = 'relu'))\n",
    "model.add(Dropout(0.5))\n",
    "model.add(Dense(10, activation = 'softmax'))\n",
    "\n",
    "model.compile(loss = 'categorical_crossentropy',\n",
    "             optimizer = 'adam',\n",
    "             metrics = ['accuracy'])"
   ]
  },
  {
   "cell_type": "code",
   "execution_count": 10,
   "metadata": {},
   "outputs": [
    {
     "data": {
      "text/plain": [
       "'C:\\\\Users\\\\mo223\\\\Desktop\\\\Folder\\\\공부 폴더\\\\Deep Learning For Everyone'"
      ]
     },
     "execution_count": 10,
     "metadata": {},
     "output_type": "execute_result"
    }
   ],
   "source": [
    "os.getcwd()"
   ]
  },
  {
   "cell_type": "code",
   "execution_count": 11,
   "metadata": {},
   "outputs": [],
   "source": [
    "# 모델 최적화 설정\n",
    "MODEL_DIR = \"./model/\"\n",
    "if not os.path.exists(MODEL_DIR):\n",
    "    os.mkdir(MODEL_DIR)\n",
    "    \n",
    "modelpath = \"./model/{epoch:02d}-{val_loss:.4f}.hdf5\"\n",
    "checkpointer = ModelCheckpoint(filepath = modelpath, monitor = 'val_loss', verbose = 1, save_best_only= True)\n",
    "early_stopping_callback = EarlyStopping(monitor = 'val_loss', patience = 10)"
   ]
  },
  {
   "cell_type": "code",
   "execution_count": 12,
   "metadata": {},
   "outputs": [
    {
     "name": "stdout",
     "output_type": "stream",
     "text": [
      "\n",
      "Epoch 00001: val_loss improved from inf to 0.05266, saving model to ./model\\01-0.0527.hdf5\n",
      "\n",
      "Epoch 00002: val_loss improved from 0.05266 to 0.03863, saving model to ./model\\02-0.0386.hdf5\n",
      "\n",
      "Epoch 00003: val_loss improved from 0.03863 to 0.03541, saving model to ./model\\03-0.0354.hdf5\n",
      "\n",
      "Epoch 00004: val_loss improved from 0.03541 to 0.03354, saving model to ./model\\04-0.0335.hdf5\n",
      "\n",
      "Epoch 00005: val_loss improved from 0.03354 to 0.03232, saving model to ./model\\05-0.0323.hdf5\n",
      "\n",
      "Epoch 00006: val_loss improved from 0.03232 to 0.03024, saving model to ./model\\06-0.0302.hdf5\n",
      "\n",
      "Epoch 00007: val_loss improved from 0.03024 to 0.02630, saving model to ./model\\07-0.0263.hdf5\n",
      "\n",
      "Epoch 00008: val_loss did not improve from 0.02630\n",
      "\n",
      "Epoch 00009: val_loss did not improve from 0.02630\n",
      "\n",
      "Epoch 00010: val_loss did not improve from 0.02630\n",
      "\n",
      "Epoch 00011: val_loss did not improve from 0.02630\n",
      "\n",
      "Epoch 00012: val_loss did not improve from 0.02630\n",
      "\n",
      "Epoch 00013: val_loss did not improve from 0.02630\n",
      "\n",
      "Epoch 00014: val_loss did not improve from 0.02630\n",
      "\n",
      "Epoch 00015: val_loss improved from 0.02630 to 0.02556, saving model to ./model\\15-0.0256.hdf5\n",
      "\n",
      "Epoch 00016: val_loss did not improve from 0.02556\n",
      "\n",
      "Epoch 00017: val_loss did not improve from 0.02556\n",
      "\n",
      "Epoch 00018: val_loss did not improve from 0.02556\n",
      "\n",
      "Epoch 00019: val_loss did not improve from 0.02556\n",
      "\n",
      "Epoch 00020: val_loss did not improve from 0.02556\n",
      "\n",
      "Epoch 00021: val_loss did not improve from 0.02556\n",
      "\n",
      "Epoch 00022: val_loss did not improve from 0.02556\n",
      "\n",
      "Epoch 00023: val_loss did not improve from 0.02556\n",
      "\n",
      "Epoch 00024: val_loss did not improve from 0.02556\n",
      "\n",
      "Epoch 00025: val_loss did not improve from 0.02556\n"
     ]
    }
   ],
   "source": [
    "# 모델의 실행\n",
    "history = model.fit(X_train, y_train, validation_data = (X_test, y_test), epochs = 30, batch_size = 200,\n",
    "                   verbose = 0, callbacks=[early_stopping_callback, checkpointer])"
   ]
  },
  {
   "cell_type": "code",
   "execution_count": 13,
   "metadata": {},
   "outputs": [
    {
     "name": "stdout",
     "output_type": "stream",
     "text": [
      "313/313 [==============================] - 3s 8ms/step - loss: 0.0281 - accuracy: 0.9925\n",
      "\n",
      " Test Accuracy: 0.9925\n"
     ]
    }
   ],
   "source": [
    "# 테스트 정확도 출력\n",
    "print(\"\\n Test Accuracy: %.4f\" % (model.evaluate(X_test, y_test)[1]))"
   ]
  },
  {
   "cell_type": "code",
   "execution_count": 14,
   "metadata": {},
   "outputs": [],
   "source": [
    "# 테스트셋의 오차\n",
    "y_vloss = history.history['val_loss']"
   ]
  },
  {
   "cell_type": "code",
   "execution_count": 15,
   "metadata": {},
   "outputs": [],
   "source": [
    "# 학습셋의 오차\n",
    "y_loss = history.history['loss']"
   ]
  },
  {
   "cell_type": "code",
   "execution_count": 18,
   "metadata": {},
   "outputs": [
    {
     "data": {
      "image/png": "[encoded data removed]",
      "text/plain": [
       "<Figure size 432x288 with 1 Axes>"
      ]
     },
     "metadata": {
      "needs_background": "light"
     },
     "output_type": "display_data"
    }
   ],
   "source": [
    "# 그래프로 표현\n",
    "x_len = np.arange(len(y_loss))\n",
    "plt.plot(x_len, y_vloss, marker = \".\", c = 'red', label = 'Testset_loss')\n",
    "plt.plot(x_len, y_loss, marker = '.', c='blue', label = 'Trainset_loss')\n",
    "\n",
    "# 그래프에 그리드를 주고 레이블을 표시\n",
    "plt.legend(loc = 'upper right')\n",
    "plt.grid()\n",
    "plt.xlabel(\"epoch\")\n",
    "plt.ylabel(\"loss\")\n",
    "plt.show()"
   ]
  },
  {
   "cell_type": "code",
   "execution_count": null,
   "metadata": {},
   "outputs": [],
   "source": []
  }
 ],
 "metadata": {
  "kernelspec": {
   "display_name": "Python 3",
   "language": "python",
   "name": "python3"
  },
  "language_info": {
   "codemirror_mode": {
    "name": "ipython",
    "version": 3
   },
   "file_extension": ".py",
   "mimetype": "text/x-python",
   "name": "python",
   "nbconvert_exporter": "python",
   "pygments_lexer": "ipython3",
   "version": "3.8.3"
  }
 },
 "nbformat": 4,
 "nbformat_minor": 4
}
